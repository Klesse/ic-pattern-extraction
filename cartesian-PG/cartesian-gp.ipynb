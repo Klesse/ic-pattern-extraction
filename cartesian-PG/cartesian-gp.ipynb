{
 "cells": [
  {
   "cell_type": "markdown",
   "id": "590c8ac2-ef92-4764-90d7-25ffb0449b6c",
   "metadata": {},
   "source": [
    "# Cartesian Genetic Programming"
   ]
  },
  {
   "cell_type": "markdown",
   "id": "f1fdabe1-3a5a-4ed7-b22b-33af78fe0284",
   "metadata": {},
   "source": [
    "## Parameters\n",
    "1. **λ**: number of individuals per generation (population).\n",
    "2. **Mutation rate**: % of the individual that will change.\n",
    "3. **Cromossome size**: number of operations that a individual will have."
   ]
  },
  {
   "cell_type": "markdown",
   "id": "f3d88c9b-278c-412a-9809-7400ee595232",
   "metadata": {},
   "source": [
    "## Libraries"
   ]
  },
  {
   "cell_type": "code",
   "execution_count": 1,
   "id": "b0e498e2-2abd-40ae-95d5-69332aab34f5",
   "metadata": {},
   "outputs": [],
   "source": [
    "from math import sqrt\n",
    "import random\n",
    "import numpy as np\n",
    "import matplotlib.pyplot as plt\n",
    "import cv2"
   ]
  },
  {
   "cell_type": "markdown",
   "id": "f783cd40-783b-4ffd-8a17-591ddd0d2a87",
   "metadata": {},
   "source": [
    "## Operations"
   ]
  },
  {
   "cell_type": "code",
   "execution_count": 2,
   "id": "5a57f45d-4cf2-4ea1-90cc-23917194b056",
   "metadata": {},
   "outputs": [],
   "source": [
    "def binarize_image(image, type='normal'):\n",
    "    if type == 'otsu':\n",
    "        _, image = cv2.threshold(image.astype(np.uint8), 0, 255, cv2.THRESH_BINARY + cv2.THRESH_OTSU)\n",
    "    elif type == 'normal':\n",
    "        _, image = cv2.threshold(image.astype(np.uint8), 200, 255, cv2.THRESH_BINARY)\n",
    "    else:\n",
    "        print('Tipo de threshold inválido')\n",
    "        return\n",
    "    return image // 255\n",
    "    \n",
    "def and_op(image1, image2):\n",
    "    return np.logical_and(image1, image2).astype(np.uint8)\n",
    "\n",
    "def or_op(image1, image2):\n",
    "    return np.logical_or(image1, image2).astype(np.uint8)\n",
    "\n",
    "def xor_op(image1, image2):\n",
    "    return np.logical_xor(image1, image2).astype(np.uint8)\n",
    "\n",
    "def not_op(image):\n",
    "    return np.logical_not(image).astype(np.uint8)\n",
    "\n",
    "def erode_op(image, kernel):\n",
    "    return cv2.erode(image, kernel, iterations=1)\n",
    "\n",
    "def dilate_op(image, kernel):\n",
    "    return cv2.dilate(image, kernel, iterations=1)\n",
    "\n",
    "def custom_len(arr):\n",
    "    return sum(1 for x in arr if x is not None)"
   ]
  },
  {
   "cell_type": "markdown",
   "id": "fb2aa300-c0f2-4a59-8ec7-6a5dfbaa493d",
   "metadata": {},
   "source": [
    "## Regular Kernels"
   ]
  },
  {
   "cell_type": "code",
   "execution_count": 3,
   "id": "08ea898c-c613-4d2a-80c6-c18cdb8753a3",
   "metadata": {},
   "outputs": [],
   "source": [
    "regular_kernels_3x3 = np.array([\n",
    "    np.array([[1,1,1],[1,1,1],[1,1,1]], dtype=np.uint8),\n",
    "    np.array([[0,1,0],[1,1,1],[0,1,0]], dtype=np.uint8),\n",
    "    np.array([[1,0,1],[0,1,0],[1,0,1]], dtype=np.uint8),\n",
    "    np.array([[0,0,1],[0,1,0],[1,0,0]], dtype=np.uint8),\n",
    "    np.array([[1,0,0],[0,1,0],[0,0,1]], dtype=np.uint8),\n",
    "    np.array([[0,1,0],[0,1,0],[0,1,0]], dtype=np.uint8),\n",
    "    np.array([[0,0,0],[1,1,1],[0,0,0]], dtype=np.uint8),\n",
    "    np.array([[1,1,1],[0,0,0],[0,0,0]], dtype=np.uint8),\n",
    "    np.array([[0,0,0],[0,0,0],[1,1,1]], dtype=np.uint8)\n",
    "])\n",
    "\n",
    "regular_kernels_5x5 = np.array([\n",
    "    np.array(np.array([[1,1,1,1,1],[1,1,1,1,1],[1,1,1,1,1],[1,1,1,1,1],[1,1,1,1,1]], dtype=np.uint8)),\n",
    "    np.array(np.array([[0,0,1,0,0],[0,0,1,0,0],[1,1,1,1,1],[0,0,1,0,0],[0,0,1,0,0]], dtype=np.uint8)),\n",
    "    np.array(np.array([[1,0,0,0,1],[0,1,0,1,0],[0,0,1,0,0],[0,1,0,1,0],[1,0,0,0,1]], dtype=np.uint8)),\n",
    "    np.array(np.array([[0,0,0,0,1],[0,0,0,1,0],[0,0,1,0,0],[0,1,0,0,0],[1,0,0,0,0]], dtype=np.uint8)),\n",
    "    np.array(np.array([[1,0,0,0,0],[0,1,0,0,0],[0,0,1,0,0],[0,0,0,1,0],[0,0,0,0,1]], dtype=np.uint8)),\n",
    "    np.array(np.array([[0,0,1,0,0],[0,0,1,0,0],[0,0,1,0,0],[0,0,1,0,0],[0,0,1,0,0]], dtype=np.uint8)),\n",
    "    np.array(np.array([[0,0,0,0,0],[0,0,0,0,0],[1,1,1,1,1],[0,0,0,0,0],[0,0,0,0,0]], dtype=np.uint8)),\n",
    "    np.array(np.array([[0,0,0,0,0],[0,1,1,1,0],[0,1,1,1,0],[0,1,1,1,0],[0,0,0,0,0]], dtype=np.uint8)),\n",
    "    np.array(np.array([[0,0,1,0,0],[0,1,1,1,0],[1,1,1,1,1],[0,1,1,1,0],[0,0,1,0,0]], dtype=np.uint8)),\n",
    "])\n",
    "\n",
    "regular_kernels_7x7 = np.array([\n",
    "    np.array(np.array([[1,1,1,1,1,1,1],[1,1,1,1,1,1,1],[1,1,1,1,1,1,1],[1,1,1,1,1,1,1],[1,1,1,1,1,1,1],\n",
    "                       [1,1,1,1,1,1,1], [1,1,1,1,1,1,1]], dtype=np.uint8)),\n",
    "    np.array(np.array([[0,0,0,1,0,0,0],[0,0,0,1,0,0,0],[0,0,0,1,0,0,0],[1,1,1,1,1,1,1],[0,0,0,1,0,0,0],\n",
    "                       [0,0,0,1,0,0,0], [0,0,0,1,0,0,0]], dtype=np.uint8)),\n",
    "    np.array(np.array([[1,0,0,0,0,0,1],[0,1,0,0,0,1,0],[0,0,1,0,1,0,0],[0,0,0,1,0,0,0],[0,0,1,0,1,0,0],\n",
    "                       [0,1,0,0,0,1,0], [1,0,0,0,0,0,1]], dtype=np.uint8)),\n",
    "    np.array(np.array([[0,0,0,1,0,0,0],[0,0,0,1,0,0,0],[0,0,0,1,0,0,0],[0,0,0,1,0,0,0],[0,0,0,1,0,0,0],\n",
    "                       [0,0,0,1,0,0,0], [0,0,0,1,0,0,0]], dtype=np.uint8)),\n",
    "    np.array(np.array([[0,0,0,0,0,0,0],[0,0,0,0,0,0,0],[0,0,0,0,0,0,0],[1,1,1,1,1,1,1],[0,0,0,0,0,0,0],\n",
    "                       [0,0,0,0,0,0,0], [0,0,0,0,0,0,0]], dtype=np.uint8)),\n",
    "    np.array(np.array([[0,0,0,0,0,0,1],[0,0,0,0,0,1,0],[0,0,0,0,1,0,0],[0,0,0,1,0,0,0],[0,0,1,0,0,0,0],\n",
    "                       [0,1,0,0,0,0,0], [1,0,0,0,0,0,0]], dtype=np.uint8)),\n",
    "    np.array(np.array([[1,0,0,0,0,0,0],[0,1,0,0,0,0,0],[0,0,1,0,0,0,0],[0,0,0,1,0,0,0],[0,0,0,0,1,0,0],\n",
    "                       [0,0,0,0,0,1,0], [0,0,0,0,0,0,1]], dtype=np.uint8)),\n",
    "    np.array(np.array([[0,0,0,1,0,0,0],[0,0,1,1,1,0,0],[0,1,1,1,1,1,0],[1,1,1,1,1,1,1],[0,1,1,1,1,1,0],\n",
    "                       [0,0,1,1,1,0,0], [0,0,0,1,0,0,0]], dtype=np.uint8)),\n",
    "    np.array(np.array([[1,1,1,1,1,1,1],[0,1,1,1,1,1,0],[0,0,1,1,1,0,0],[0,0,0,1,0,0,0],[0,0,1,1,1,0,0],\n",
    "                       [0,1,1,1,1,1,0], [1,1,1,1,1,1,1]], dtype=np.uint8)),\n",
    "])"
   ]
  },
  {
   "cell_type": "markdown",
   "id": "85cdf349-6d53-49d6-a9a2-6f8cdf2a4a30",
   "metadata": {},
   "source": [
    "## Irregular Kernels"
   ]
  },
  {
   "cell_type": "code",
   "execution_count": 4,
   "id": "22cdeac9-0159-4736-a0ac-59d998947d5a",
   "metadata": {},
   "outputs": [],
   "source": [
    "np.random.seed(42)\n",
    "\n",
    "irregular_kernels_3x3 = np.empty(shape=9,dtype=object)\n",
    "irregular_kernels_5x5 = np.empty(shape=9,dtype=object)\n",
    "irregular_kernels_7x7 = np.empty(shape=9,dtype=object)\n",
    "\n",
    "for i in range(9):\n",
    "    irregular_kernels_3x3[i] = np.random.randint(2, size=(3, 3))\n",
    "    irregular_kernels_5x5[i] = np.random.randint(2, size=(5, 5))\n",
    "    irregular_kernels_7x7[i] = np.random.randint(2, size=(7, 7))"
   ]
  },
  {
   "cell_type": "code",
   "execution_count": 5,
   "id": "b99b1bc5-cb45-479e-a2e6-8c4d5c3c9a6e",
   "metadata": {},
   "outputs": [
    {
     "data": {
      "text/plain": [
       "array([[0, 1, 0],\n",
       "       [0, 0, 1],\n",
       "       [0, 0, 0]])"
      ]
     },
     "execution_count": 5,
     "metadata": {},
     "output_type": "execute_result"
    }
   ],
   "source": [
    "irregular_kernels_3x3[0]"
   ]
  },
  {
   "cell_type": "markdown",
   "id": "5f7f8e56-58fc-4b72-b31b-6fac867484d3",
   "metadata": {},
   "source": [
    "## All Kernels"
   ]
  },
  {
   "cell_type": "code",
   "execution_count": 6,
   "id": "59b9aa86-fd31-4664-b40d-b69319c16c1a",
   "metadata": {},
   "outputs": [],
   "source": [
    "all_kernels = regular_kernels_3x3.tolist() + \\\n",
    "              regular_kernels_5x5.tolist() + \\\n",
    "              regular_kernels_7x7.tolist() + \\\n",
    "              irregular_kernels_3x3.tolist() + \\\n",
    "              irregular_kernels_5x5.tolist() + \\\n",
    "              irregular_kernels_7x7.tolist()\n",
    "for idx, element in enumerate(all_kernels):\n",
    "    all_kernels[idx] = np.array(element, dtype=np.uint8)\n",
    "all_kernels = np.array(all_kernels, dtype=object)\n",
    "    "
   ]
  },
  {
   "cell_type": "code",
   "execution_count": 7,
   "id": "c19337e1-f7b8-479f-8638-8fd7e6bde116",
   "metadata": {},
   "outputs": [
    {
     "data": {
      "text/plain": [
       "54"
      ]
     },
     "execution_count": 7,
     "metadata": {},
     "output_type": "execute_result"
    }
   ],
   "source": [
    "len(all_kernels)"
   ]
  },
  {
   "cell_type": "markdown",
   "id": "ac1556d3-e806-4b0e-af96-d321948c1c74",
   "metadata": {},
   "source": [
    "## Fitness Functions"
   ]
  },
  {
   "cell_type": "code",
   "execution_count": 8,
   "id": "4656f82d-fce1-43b1-a903-51b9688d0ae8",
   "metadata": {},
   "outputs": [],
   "source": [
    "def image_mul(image1, image2):\n",
    "        if (len(image1) == len(image2)):\n",
    "            N = len(image1)\n",
    "        else:\n",
    "            print('Imagens não compatíveis: Tamanhos diferentes')\n",
    "            return\n",
    "        image1 = image1.astype(np.uint8)\n",
    "        image2 = image2.astype(np.uint8)\n",
    "        _, image1 = cv2.threshold(image1, 0, 255, cv2.THRESH_BINARY + cv2.THRESH_OTSU)\n",
    "        _, image2 = cv2.threshold(image2, 0, 255, cv2.THRESH_BINARY + cv2.THRESH_OTSU)\n",
    "        image1 = image1 // 255\n",
    "        image2 = image2 // 255\n",
    "        sum = 0\n",
    "        for i in range(image1.shape[0]):\n",
    "            for j in range(image1.shape[1]):\n",
    "                sum += image1[i][j] * image2[i][j]\n",
    "        return sum*(1/N)/(1/N)\n",
    "\n",
    "\n",
    "\n",
    "def fit_a(image2, image1):\n",
    "    return (image_mul(image1, image2))/((sqrt(image_mul(image1, image1)))*(sqrt(image_mul(image2, image2))))\n"
   ]
  },
  {
   "cell_type": "code",
   "execution_count": 9,
   "id": "e2061b3b-721a-4e52-bfb9-49ba8bc6a3aa",
   "metadata": {},
   "outputs": [],
   "source": [
    "def fit_b(image1, image2):\n",
    "        TP=0\n",
    "        TN=0\n",
    "        FP=0\n",
    "        FN=0\n",
    "        if (len(image1) == len(image2)):\n",
    "            N = len(image1)\n",
    "        else:\n",
    "            print('Imagens não compatíveis: Tamanhos diferentes')\n",
    "            return\n",
    "        \n",
    "        image1 = image1.astype(np.uint8)\n",
    "        image2 = image2.astype(np.uint8)\n",
    "\n",
    "        # Smart threshold\n",
    "        sum = 0\n",
    "        for i in range(image1.shape[0]):\n",
    "            for j in range(image1.shape[1]):\n",
    "                if(image1[i][j] == 1 and image2[i][j] == 1):\n",
    "                    TP+=1\n",
    "                elif(image1[i][j] == 1 and image2[i][j] == 0):\n",
    "                    FP+=1\n",
    "                elif(image1[i][j] == 0 and image2[i][j] == 1):\n",
    "                    FN+=1\n",
    "                elif(image1[i][j] == 0 and image2[i][j] == 0):\n",
    "                    TN+=1\n",
    "        if (TP + FN == 0 or TN + FP == 0):\n",
    "            SV = 1\n",
    "            SP = 1\n",
    "        else:\n",
    "            SV = (TP)/(TP + FN)\n",
    "            SP = (TN)/(TN + FP)\n",
    "\n",
    "        return 1-((sqrt((1-SP)**2 + (1-SV)**2))/sqrt(2))"
   ]
  },
  {
   "cell_type": "code",
   "execution_count": 10,
   "id": "8fec61c2-45f5-4340-bfaa-ea191930294e",
   "metadata": {},
   "outputs": [],
   "source": [
    "   def fit_pearson(image1, image2):\n",
    "        return np.corrcoef((image1.ravel(),image2.ravel()))[0,1]"
   ]
  },
  {
   "cell_type": "markdown",
   "id": "f4282183-e329-49b3-863c-f92408719623",
   "metadata": {},
   "source": [
    "## Encoding:\n",
    "\n",
    "- 1X: Functions\n",
    "    - 11: AND\n",
    "    - 12: OR\n",
    "    - 13: XOR\n",
    "    - 14: NOT\n",
    "    - 15: DILATION\n",
    "    - 16: EROSION"
   ]
  },
  {
   "cell_type": "code",
   "execution_count": 11,
   "id": "ec3c9e6d-0aab-4a7d-85b7-570dbcc24c62",
   "metadata": {},
   "outputs": [],
   "source": [
    "# First generation\n",
    "\n",
    "def first_generation(chrom_len, pop_len, input):\n",
    "    functions = [11,12,13,14,15,16]\n",
    "    \n",
    "    available_inputs = np.empty(shape=(chrom_len+1,),dtype=object)\n",
    "    available_inputs[0] = input\n",
    "\n",
    "    outputs = np.empty(shape=(pop_len,),dtype=object)\n",
    "    \n",
    "    chromossomes = np.empty(shape=(pop_len,),dtype=object)\n",
    "    \n",
    "    for k in range(pop_len):\n",
    "        chromossome = []\n",
    "        aux = [-1,-1,-1]\n",
    "        \n",
    "        for i in range(0,chrom_len):\n",
    "            chromossome.append(np.array(aux))\n",
    "        chromossome = np.array(chromossome)\n",
    "        for i in range(0,chrom_len):\n",
    "            chromossome[i][2] = random.randint(11,16)\n",
    "        \n",
    "        for i in range(0, chrom_len):\n",
    "            input1 = random.randint(0,min([i+1,custom_len(available_inputs)-1]))\n",
    "            input2 = random.randint(0,min([i+1,custom_len(available_inputs)-1]))\n",
    "            chromossome[i][0] = input1\n",
    "            if (chromossome[i][2] == 11):\n",
    "                chromossome[i][1] = input2\n",
    "                available_inputs[i+1] = and_op(available_inputs[input1],available_inputs[input2]) \n",
    "            elif (chromossome[i][2] == 12):\n",
    "                chromossome[i][1] = input2\n",
    "                available_inputs[i+1] = or_op(available_inputs[input1],available_inputs[input2]) \n",
    "            elif (chromossome[i][2] == 13):\n",
    "                chromossome[i][1] = input2\n",
    "                available_inputs[i+1] = xor_op(available_inputs[input1],available_inputs[input2]) \n",
    "            elif (chromossome[i][2] == 14):\n",
    "                available_inputs[i+1] = not_op(available_inputs[input1])\n",
    "            elif (chromossome[i][2] == 15):\n",
    "                input2 = random.randint(0,len(all_kernels)-1)\n",
    "                chromossome[i][1] = input2\n",
    "                available_inputs[i+1] = dilate_op(available_inputs[input1],all_kernels[input2])\n",
    "            else:\n",
    "                input2 = random.randint(0,len(all_kernels)-1)\n",
    "                chromossome[i][1] = input2\n",
    "                available_inputs[i+1] = erode_op(available_inputs[input1],all_kernels[input2])\n",
    "        chromossomes[k] = np.array(chromossome)\n",
    "        outputs[k] = available_inputs[-1]\n",
    "        available_inputs = np.empty(shape=(chrom_len+1,),dtype=object)\n",
    "        available_inputs[0] = input\n",
    "    return chromossomes, outputs"
   ]
  },
  {
   "cell_type": "code",
   "execution_count": 12,
   "id": "38656575-4ff7-420e-b3f6-34bc04fbbd43",
   "metadata": {},
   "outputs": [],
   "source": [
    "def new_generation(parent, chrom_len, pop_len, mut_rate, input):\n",
    "    functions = [11,12,13,14,15,16]\n",
    "    available_inputs = np.empty(shape=(chrom_len+1,),dtype=object)\n",
    "    available_inputs[0] = input\n",
    "\n",
    "    outputs = np.empty(shape=(pop_len,),dtype=object)\n",
    "    \n",
    "    chromossomes = np.empty(shape=(pop_len,),dtype=object)\n",
    "    \n",
    "    for k in range(pop_len):\n",
    "        chromossome = []\n",
    "        aux = [-1,-1,-1]\n",
    "        \n",
    "        for i in range(0,chrom_len):\n",
    "            chromossome.append(np.array(aux))\n",
    "        chromossome = np.array(chromossome)\n",
    "        \n",
    "        \n",
    "        for i in range(0, chrom_len):\n",
    "            flag_kernel = True\n",
    "            if (random.random() < mut_rate):\n",
    "                input1 = random.randint(0,min([i+1,custom_len(available_inputs)-1]))\n",
    "                input2 = random.randint(0,min([i+1,custom_len(available_inputs)-1]))\n",
    "                chromossome[i][0] = input1\n",
    "                chromossome[i][2] = functions[random.randint(0,5)]\n",
    "            else:\n",
    "                input1 = parent[i][0]\n",
    "                input2 = parent[i][1]\n",
    "                chromossome[i][2] = parent[i][2]\n",
    "                chromossome[i][0] = input1\n",
    "                #print(f\"I1: {parent[i][0]} and I2: {parent[i][1]} and function {chromossome[i][2]}\")\n",
    "                flag_kernel = False\n",
    "            \n",
    "            if (chromossome[i][2] == 11):\n",
    "                chromossome[i][1] = input2\n",
    "                available_inputs[i+1] = and_op(available_inputs[input1],available_inputs[input2]) \n",
    "            elif (chromossome[i][2] == 12):\n",
    "                chromossome[i][1] = input2\n",
    "                available_inputs[i+1] = or_op(available_inputs[input1],available_inputs[input2]) \n",
    "            elif (chromossome[i][2] == 13):\n",
    "                chromossome[i][1] = input2\n",
    "                available_inputs[i+1] = xor_op(available_inputs[input1],available_inputs[input2]) \n",
    "            elif (chromossome[i][2] == 14):\n",
    "                available_inputs[i+1] = not_op(available_inputs[input1])\n",
    "            elif (chromossome[i][2] == 15):\n",
    "                if flag_kernel:\n",
    "                    input2 = random.randint(0,len(all_kernels)-1)\n",
    "                chromossome[i][1] = input2\n",
    "                available_inputs[i+1] = dilate_op(available_inputs[input1],all_kernels[input2])\n",
    "            else:\n",
    "                input2 = random.randint(0,len(all_kernels)-1)\n",
    "                chromossome[i][1] = input2\n",
    "                available_inputs[i+1] = erode_op(available_inputs[input1],all_kernels[input2])\n",
    "        chromossomes[k] = np.array(chromossome)\n",
    "        outputs[k] = available_inputs[-1]\n",
    "        available_inputs = np.empty(shape=(chrom_len+1,),dtype=object)\n",
    "        available_inputs[0] = input\n",
    "    return chromossomes, outputs"
   ]
  },
  {
   "cell_type": "code",
   "execution_count": 13,
   "id": "a0d45c89-0f8e-4e89-993a-7355890ec97b",
   "metadata": {},
   "outputs": [],
   "source": [
    "# Validação em um pedaço da imagem\n",
    "\n",
    "def validation(pop_len, outputs, output_img):\n",
    "    best_gen_idx = 0\n",
    "    best_gen_score = 0\n",
    "    \n",
    "    for k in range(pop_len):\n",
    "        score = fit_pearson(outputs[k], output_img)\n",
    "        if score > best_gen_score and score != 1.0:\n",
    "            best_gen_score = score\n",
    "            best_gen_idx = k\n",
    "    return best_gen_score, best_gen_idx"
   ]
  },
  {
   "cell_type": "code",
   "execution_count": 14,
   "id": "b693d3ae-1517-4367-9f85-f2484b5fe10c",
   "metadata": {},
   "outputs": [],
   "source": [
    "def CGP(X_train, chrom_len, pop_len, epochs, mut_rate=0.1):\n",
    "    population, outputs = first_generation(chrom_len, pop_len, X_train['input'][0])\n",
    "    best_gen_score, best_gen_idx = validation(pop_len, outputs, X_train['output'][0])\n",
    "    for i in range(X_train.shape[0]):\n",
    "        print(f'======== IMAGE {i} ==========')\n",
    "        for j in range(epochs):\n",
    "            parent = population[best_gen_idx]\n",
    "            population, outputs = new_generation(parent, chrom_len, pop_len, mut_rate, X_train['input'][i])\n",
    "            best_gen_score, best_gen_idx = validation(pop_len, outputs, X_train['output'][i])\n",
    "            print(f' Epoch {j}: score -> {best_gen_score}')\n",
    "    \n",
    "    return population[best_gen_idx], outputs[best_gen_idx], best_gen_score\n"
   ]
  },
  {
   "cell_type": "code",
   "execution_count": 15,
   "id": "bf191a2d-eeed-4bb6-ac2d-fdfde7dfb461",
   "metadata": {},
   "outputs": [],
   "source": [
    "CHROMOSSOME_LEN = 35\n",
    "POPULATION_LEN = 90\n",
    "EPOCHS = 350"
   ]
  },
  {
   "cell_type": "code",
   "execution_count": 16,
   "id": "7f7ff8aa-bb26-4910-866d-62cfdbda4279",
   "metadata": {},
   "outputs": [],
   "source": [
    "def CGP_one(input, output, chrom_len, pop_len, epochs, mut_rate=0.1):\n",
    "    population, outputs = first_generation(chrom_len, pop_len, input)\n",
    "    best_gen_score, best_gen_idx = validation(pop_len, outputs, output)\n",
    "    for i in range(epochs):\n",
    "        parent = population[best_gen_idx]\n",
    "        population, outputs = new_generation(parent, chrom_len, pop_len, mut_rate, input)\n",
    "        best_gen_score, best_gen_idx = validation(pop_len, outputs, output)\n",
    "        #print(f' Epoch {i}: score -> {best_gen_score}')\n",
    "    \n",
    "    return population[best_gen_idx], outputs[best_gen_idx], best_gen_score"
   ]
  },
  {
   "cell_type": "code",
   "execution_count": 17,
   "id": "d26d9b44-447c-4f10-8f22-02baab11f7de",
   "metadata": {},
   "outputs": [],
   "source": [
    "from time import perf_counter"
   ]
  },
  {
   "cell_type": "code",
   "execution_count": 18,
   "id": "40464b29-bf2c-4729-b111-14e7728a663d",
   "metadata": {},
   "outputs": [
    {
     "ename": "NameError",
     "evalue": "name 'custom_set' is not defined",
     "output_type": "error",
     "traceback": [
      "\u001b[0;31m---------------------------------------------------------------------------\u001b[0m",
      "\u001b[0;31mNameError\u001b[0m                                 Traceback (most recent call last)",
      "Cell \u001b[0;32mIn[18], line 1\u001b[0m\n\u001b[0;32m----> 1\u001b[0m X_train \u001b[38;5;241m=\u001b[39m \u001b[43mcustom_set\u001b[49m([\u001b[38;5;124m'\u001b[39m\u001b[38;5;124mbeam\u001b[39m\u001b[38;5;124m'\u001b[39m])\n\u001b[1;32m      2\u001b[0m \u001b[38;5;66;03m#input_img = binarize_image(cv2.imread('./train/input/5.jpg')[:,:,0], 'otsu')\u001b[39;00m\n\u001b[1;32m      3\u001b[0m \u001b[38;5;66;03m#output_img = binarize_image(cv2.imread('./train/output/note/5.jpg')[:,:,0], 'otsu')\u001b[39;00m\n\u001b[1;32m      4\u001b[0m time_start \u001b[38;5;241m=\u001b[39m perf_counter()\n",
      "\u001b[0;31mNameError\u001b[0m: name 'custom_set' is not defined"
     ]
    }
   ],
   "source": [
    "X_train = custom_set(['beam'])\n",
    "#input_img = binarize_image(cv2.imread('./train/input/5.jpg')[:,:,0], 'otsu')\n",
    "#output_img = binarize_image(cv2.imread('./train/output/note/5.jpg')[:,:,0], 'otsu')\n",
    "time_start = perf_counter()\n",
    "chromossome, output_, score = CGP(X_train, CHROMOSSOME_LEN, POPULATION_LEN, EPOCHS, 0.05)\n",
    "time_end = perf_counter()\n",
    "\n",
    "print(f'Tempo de treinamento da CGP: {time_end - time_start}s')"
   ]
  },
  {
   "cell_type": "code",
   "execution_count": null,
   "id": "0b1c8e4d-ee2c-4407-b798-162cc395688d",
   "metadata": {},
   "outputs": [],
   "source": [
    "print(score)"
   ]
  },
  {
   "cell_type": "code",
   "execution_count": null,
   "id": "9d3df4d5-4b72-4593-a43f-a9fe0ced2028",
   "metadata": {},
   "outputs": [],
   "source": [
    "save_chromossome(chromossome, 'beam_90_35_005_350_final')"
   ]
  },
  {
   "cell_type": "code",
   "execution_count": null,
   "id": "759ea0c2-01ee-44d8-b5f7-dfa1025ffdee",
   "metadata": {},
   "outputs": [],
   "source": [
    "plt.imshow(output_)\n",
    "plt.show()"
   ]
  },
  {
   "cell_type": "markdown",
   "id": "614fc245-74a1-4774-bce1-69765d1ee99d",
   "metadata": {},
   "source": [
    "## Load and Save Chromossomes"
   ]
  },
  {
   "cell_type": "code",
   "execution_count": 19,
   "id": "8a6089ca-19ef-4448-8928-7c9d2736bec1",
   "metadata": {},
   "outputs": [],
   "source": [
    "def save_chromossome(chromossome, name):\n",
    "    chromossome.tofile(f'{name}.dat')\n",
    "    print(f'Chromossome {name} saved!')\n",
    "    \n",
    "def load_chromossome(name):\n",
    "    c = np.fromfile(f'{name}.dat', dtype=int)\n",
    "    final_array = []\n",
    "    aux = []\n",
    "    for i in range(len(c)):\n",
    "        if (i+1) % 3 == 0 and i != 0:\n",
    "            aux.append(c[i])\n",
    "            final_array.append(np.array(aux))\n",
    "            aux = []\n",
    "        else:\n",
    "            aux.append(c[i])\n",
    "    return np.array(final_array)"
   ]
  },
  {
   "cell_type": "code",
   "execution_count": 20,
   "id": "908d3c3b-18f6-4c18-9050-ab3a84cd0374",
   "metadata": {},
   "outputs": [],
   "source": [
    "def CGP_func_apply(input, chromossome):\n",
    "    chrom_len = len(chromossome)\n",
    "    available_inputs = np.empty(shape=(chrom_len+1,),dtype=object)\n",
    "    available_inputs[0] = input\n",
    "    \n",
    "    for i in range(0, chrom_len):\n",
    "        \n",
    "        if (chromossome[i][2] == 11):\n",
    "            available_inputs[i+1] = and_op(available_inputs[chromossome[i][0]],available_inputs[chromossome[i][1]]) \n",
    "        elif (chromossome[i][2] == 12):\n",
    "            available_inputs[i+1] = or_op(available_inputs[chromossome[i][0]],available_inputs[chromossome[i][1]]) \n",
    "        elif (chromossome[i][2] == 13):\n",
    "            available_inputs[i+1] = xor_op(available_inputs[chromossome[i][0]],available_inputs[chromossome[i][1]])  \n",
    "        elif (chromossome[i][2] == 14):\n",
    "            available_inputs[i+1] = not_op(available_inputs[chromossome[i][0]]) \n",
    "        elif (chromossome[i][2] == 15):\n",
    "            available_inputs[i+1] = dilate_op(available_inputs[chromossome[i][0]],all_kernels[chromossome[i][1]])\n",
    "        else:\n",
    "            available_inputs[i+1] = erode_op(available_inputs[chromossome[i][0]],all_kernels[chromossome[i][1]])\n",
    "        \n",
    "    return available_inputs[-1]"
   ]
  },
  {
   "cell_type": "code",
   "execution_count": null,
   "id": "2fb70b6b-c13b-46c4-a65c-9e8ed68aa630",
   "metadata": {},
   "outputs": [],
   "source": [
    "np.unique(CGP_func_apply(input, chromossome)) == np.unique(output)"
   ]
  },
  {
   "cell_type": "code",
   "execution_count": null,
   "id": "0e55278e-8e4c-48b5-ad7b-26c4b8c53d2b",
   "metadata": {},
   "outputs": [],
   "source": [
    "fit_pearson(output, CGP_func_apply(X_train['input'][13], chromossome))"
   ]
  },
  {
   "cell_type": "code",
   "execution_count": null,
   "id": "d364ea7c-b734-4730-9669-798db143367a",
   "metadata": {},
   "outputs": [],
   "source": [
    "# Tempo de execução\n",
    "start = perf_counter()\n",
    "CGP_func_apply(X_train['input'][13], chromossome)\n",
    "end = perf_counter()\n",
    "print(end-start)"
   ]
  },
  {
   "cell_type": "code",
   "execution_count": null,
   "id": "1a579bc6-5af9-4889-a32f-ce712b424f20",
   "metadata": {},
   "outputs": [],
   "source": [
    "from PIL import Image\n",
    "im = Image.fromarray(output*255)\n",
    "im.save(\"resultado.jpeg\")"
   ]
  },
  {
   "cell_type": "markdown",
   "id": "ede860f0-5dd7-4dca-8ced-1f8ffda3b17f",
   "metadata": {},
   "source": [
    "## Function to create the dataframe X_train"
   ]
  },
  {
   "cell_type": "code",
   "execution_count": null,
   "id": "f9673c9b-aa62-43d4-a94e-fb102984df19",
   "metadata": {},
   "outputs": [],
   "source": [
    "import pandas as pd\n",
    "import os\n",
    "\n",
    "def custom_set(classes, type='train'):\n",
    "    if type == 'train':\n",
    "        path_input = './train/input/'\n",
    "        path_output = './train/output/'\n",
    "    else:\n",
    "        path_input = './test/input/'\n",
    "        path_output = './test/output/'\n",
    "    dataframe = pd.DataFrame(columns=['input', 'output'])\n",
    "    for class_ in classes:\n",
    "        for f in sorted(os.listdir(path_input)):\n",
    "            dataframe = dataframe._append({'input': binarize_image(cv2.imread(os.path.join(path_input, f))[:,:,0], 'otsu'), \n",
    "                                           'output': binarize_image(cv2.imread(os.path.join(path_output+class_, f))[:,:,0], 'otsu'),\n",
    "                                           'class': class_},\n",
    "                                           ignore_index=True)\n",
    "            \n",
    "    return dataframe"
   ]
  },
  {
   "cell_type": "code",
   "execution_count": null,
   "id": "bda762ca-c982-4592-a534-c33b8a037001",
   "metadata": {},
   "outputs": [],
   "source": [
    "sorted(os.listdir('./train/input/'))"
   ]
  },
  {
   "cell_type": "code",
   "execution_count": null,
   "id": "662be648-a8ac-4461-bbfe-ce3bec122293",
   "metadata": {},
   "outputs": [],
   "source": [
    "X_train = custom_set(['note','beam'])"
   ]
  },
  {
   "cell_type": "code",
   "execution_count": null,
   "id": "83108987-8140-4fe2-a6dc-0b10d9bc3b74",
   "metadata": {},
   "outputs": [],
   "source": [
    "X_train.shape"
   ]
  },
  {
   "cell_type": "markdown",
   "id": "54b490f7-a165-4363-bf19-0175377fe987",
   "metadata": {},
   "source": [
    "## Score function"
   ]
  },
  {
   "cell_type": "code",
   "execution_count": null,
   "id": "b5c2d771-90c7-44a0-a10e-ccda40b7cc83",
   "metadata": {},
   "outputs": [],
   "source": [
    "def CGP_score(chromossome, X_test, func='pearson'):\n",
    "    scores = []\n",
    "    if func == 'fita':\n",
    "        for i in range(X_test.shape[0]):\n",
    "            scores.append(fit_a(CGP_func_apply(X_test['input'][i], chromossome), X_test['output'][i]))\n",
    "    elif func == 'fitb':\n",
    "        for i in range(X_test.shape[0]):\n",
    "            scores.append(fit_b(X_test['output'][i], CGP_func_apply( X_test['input'][i], chromossome)))\n",
    "    else:\n",
    "        for i in range(X_test.shape[0]):\n",
    "            scores.append(fit_pearson(CGP_func_apply(X_test['input'][i], chromossome), X_test['output'][i]))\n",
    "    return scores\n",
    "    "
   ]
  },
  {
   "cell_type": "code",
   "execution_count": null,
   "id": "453103fe-0134-415e-92be-3373e600bd5a",
   "metadata": {},
   "outputs": [],
   "source": [
    "X_test = custom_set(['beam'], type='test')"
   ]
  },
  {
   "cell_type": "code",
   "execution_count": 24,
   "id": "41124c15-7941-499c-a677-ed6ae37d86cf",
   "metadata": {},
   "outputs": [],
   "source": [
    "chromossome = load_chromossome('beam_90_35_005_350_final')"
   ]
  },
  {
   "cell_type": "code",
   "execution_count": null,
   "id": "1a898575-5e26-4cf5-aead-d578c8b1dfec",
   "metadata": {},
   "outputs": [],
   "source": [
    "lista = CGP_score(chromossome, X_test, 'pearson')\n",
    "print(lista)\n",
    "print(np.mean(lista))\n",
    "print(np.std(lista))"
   ]
  },
  {
   "cell_type": "code",
   "execution_count": null,
   "id": "d8cee858-563d-43d6-a0b6-b0d9b3ea64ad",
   "metadata": {},
   "outputs": [],
   "source": [
    "lista = [0.501413, 0.38042, 0.497334, 0.410732, 0.391032, 0.458018, 0.238303, 0.592592, 0.494265]\n",
    "np.std(lista)"
   ]
  },
  {
   "cell_type": "code",
   "execution_count": 25,
   "id": "6a23f0ce-93cd-452b-a344-a69cdac1a7d5",
   "metadata": {},
   "outputs": [
    {
     "data": {
      "text/plain": [
       "<Figure size 640x480 with 0 Axes>"
      ]
     },
     "metadata": {},
     "output_type": "display_data"
    },
    {
     "data": {
      "image/png": "[encoded data removed]",
      "text/plain": [
       "<Figure size 640x480 with 2 Axes>"
      ]
     },
     "metadata": {},
     "output_type": "display_data"
    }
   ],
   "source": [
    "image = 43  # 36 - 45\n",
    "class_out = 'beam'\n",
    "\n",
    "input_img = binarize_image(cv2.imread(f'./test/input/{image}.jpg')[:,:,0], 'otsu')\n",
    "output_img = binarize_image(cv2.imread(f'./test/output/{class_out}/{image}.jpg')[:,:,0], 'otsu')\n",
    "\n",
    "\n",
    "plt.figure()\n",
    "f, axarr = plt.subplots(1,2)\n",
    "plt.title(f'fitb {round(fit_b(CGP_func_apply(input_img,chromossome), output_img),3)} pearson {round(fit_pearson(CGP_func_apply(input_img,chromossome), output_img),3)}')\n",
    "axarr[0].imshow(CGP_func_apply(input_img,chromossome))\n",
    "axarr[1].imshow(output_img)\n",
    "plt.show()\n",
    "\n",
    "from PIL import Image\n",
    "im = Image.fromarray(CGP_func_apply(input_img,chromossome)*255)\n",
    "im.save(\"cgp-best-beam.jpeg\")"
   ]
  },
  {
   "cell_type": "markdown",
   "id": "80a44c74-225b-4730-b70d-db2b5e7a65bd",
   "metadata": {},
   "source": [
    "## Model Tweak"
   ]
  },
  {
   "cell_type": "code",
   "execution_count": null,
   "id": "c8ccf48b-eac9-4e0b-bc2a-2ef59389c0c5",
   "metadata": {},
   "outputs": [],
   "source": [
    "input_img = binarize_image(cv2.imread('./train/input/5.jpg')[:,:,0], 'otsu')\n",
    "output_img = binarize_image(cv2.imread('./train/output/note/5.jpg')[:,:,0], 'otsu')\n",
    "\n",
    "aux = []\n",
    "scores_mean = []\n",
    "for epochs in [150,250,350]:\n",
    "    for chromossome_len in [25,30,35]:\n",
    "        for population_len in [60,75,90]:\n",
    "            print(\"=======================================================================================\")\n",
    "            print(f\"EPOCHS: {epochs}  CHROMOSSOME_LEN: {chromossome_len}  POPULATION_LEN: {population_len}\")\n",
    "            for _ in range(10):\n",
    "                _, _, score = CGP_one(input_img, output_img, chromossome_len, population_len, epochs, 0.05)\n",
    "                aux.append(score)\n",
    "            print(\"========================================================================================\")\n",
    "            print(f'Mean: {np.mean(aux)}')\n",
    "            print(f'Std: {np.std(aux)}')\n",
    "            print(f'Median: {np.median(aux)}')\n",
    "            aux = []"
   ]
  },
  {
   "cell_type": "markdown",
   "id": "cca474a9-28fb-4c7a-82f9-d94b45e5e921",
   "metadata": {},
   "source": [
    "## Type of thresholding"
   ]
  },
  {
   "cell_type": "code",
   "execution_count": null,
   "id": "27aaaa05-179c-42ae-bc2d-d9c2cc963673",
   "metadata": {},
   "outputs": [],
   "source": [
    "import numpy as np\n",
    "\n",
    "CHROMOSSOME_LEN = 35\n",
    "POPULATION_LEN = 75\n",
    "EPOCHS = 350\n",
    "\n",
    "aux = []\n",
    "\n",
    "for class_ in ['note', 'beam']:\n",
    "    if class_ == 'beam':\n",
    "        CHROMOSSOME_LEN = 30\n",
    "        POPULATION_LEN = 90\n",
    "    print(f'================== {class_.upper()} ==================')\n",
    "    input_img = binarize_image(cv2.imread('./train/input/5.jpg')[:,:,0], type)\n",
    "    output_img = binarize_image(cv2.imread(f'./train/output/{class_}/5.jpg')[:,:,0], type)\n",
    "    for type in ['otsu','normal']:\n",
    "        print(f'Type => {type}')\n",
    "        for _ in range(10):\n",
    "            _, _, score = CGP_one(input_img, output_img, CHROMOSSOME_LEN, POPULATION_LEN, EPOCHS, 0.05)\n",
    "            aux.append(score)\n",
    "        print(f'Mean score -> {np.mean(aux)}')\n",
    "        print(f'Std score -> {np.std(aux)}')\n",
    "        print(f'Median score -> {np.median(aux)}')\n",
    "        aux=[]"
   ]
  },
  {
   "cell_type": "code",
   "execution_count": null,
   "id": "9365a626-c57d-4a08-91df-eece84b4a52a",
   "metadata": {},
   "outputs": [],
   "source": []
  }
 ],
 "metadata": {
  "kernelspec": {
   "display_name": "Python 3 (ipykernel)",
   "language": "python",
   "name": "python3"
  },
  "language_info": {
   "codemirror_mode": {
    "name": "ipython",
    "version": 3
   },
   "file_extension": ".py",
   "mimetype": "text/x-python",
   "name": "python",
   "nbconvert_exporter": "python",
   "pygments_lexer": "ipython3",
   "version": "3.10.12"
  }
 },
 "nbformat": 4,
 "nbformat_minor": 5
}
